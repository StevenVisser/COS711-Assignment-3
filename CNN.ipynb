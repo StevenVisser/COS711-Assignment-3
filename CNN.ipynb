{
  "nbformat": 4,
  "nbformat_minor": 0,
  "metadata": {
    "colab": {
      "name": "CNN.ipynb",
      "provenance": []
    },
    "kernelspec": {
      "name": "python3",
      "display_name": "Python 3"
    },
    "language_info": {
      "name": "python"
    }
  },
  "cells": [
    {
      "cell_type": "code",
      "metadata": {
        "colab": {
          "base_uri": "https://localhost:8080/"
        },
        "id": "MGoY12IknNzn",
        "outputId": "b8e995c2-14a9-48d3-cc76-b9f66ad4896d"
      },
      "source": [
        "from google.colab import drive\n",
        "drive.mount('/content/drive')\n",
        "\n",
        "import csv\n",
        "import numpy as np\n",
        "from PIL import Image\n",
        "import os\n",
        "import PIL\n",
        "import glob"
      ],
      "execution_count": 1,
      "outputs": [
        {
          "output_type": "stream",
          "name": "stdout",
          "text": [
            "Drive already mounted at /content/drive; to attempt to forcibly remount, call drive.mount(\"/content/drive\", force_remount=True).\n"
          ]
        }
      ]
    },
    {
      "cell_type": "code",
      "metadata": {
        "id": "pGgY1EDrflDG"
      },
      "source": [
        "from keras.models import Sequential\n",
        "from keras.layers import Conv2D, MaxPooling2D, Dense, Flatten\n",
        "from tensorflow.keras.optimizers import Adam"
      ],
      "execution_count": 2,
      "outputs": []
    },
    {
      "cell_type": "code",
      "metadata": {
        "id": "Opn0pJH1ok95"
      },
      "source": [
        "path_test = \"/content/drive/My Drive/COS711/\""
      ],
      "execution_count": 3,
      "outputs": []
    },
    {
      "cell_type": "code",
      "metadata": {
        "id": "OCUMKrRYorGD"
      },
      "source": [
        "#Sets up the arrays holding the images and the corresponding label one hot encodings\n",
        "trainImages = []\n",
        "trainLabels = []\n",
        "\n",
        "with open(path_test + \"Train.csv\") as file:\n",
        "  read = csv.reader(file, delimiter=',')\n",
        "  count = 0\n",
        "  for row in read:\n",
        "    if count <= 1:\n",
        "      if count == 0:\n",
        "        count +=1\n",
        "      else:\n",
        "        image = Image.open(path_test + \"PreparedImages/\" + row[0] + \".jpg\")\n",
        "        trainImages = [np.array(image)]\n",
        "        n1 = 0\n",
        "        n2 = 0\n",
        "        n3 = 0\n",
        "        n1 += int(row[1])\n",
        "        n2 += int(row[2])\n",
        "        n3 += int(row[3])\n",
        "        trainLabels = [np.array((n1,n2,n3),dtype=int)]\n",
        "        count += 1\n",
        "    else:\n",
        "        image = Image.open(path_test + \"PreparedImages/\" + row[0] + \".jpg\")\n",
        "        trainImages = np.concatenate((trainImages,[np.array(image)]),axis=0)\n",
        "        n1 = 0\n",
        "        n2 = 0\n",
        "        n3 = 0\n",
        "        n1 += int(row[1])\n",
        "        n2 += int(row[2])\n",
        "        n3 += int(row[3])\n",
        "        trainLabels = np.concatenate((trainLabels,[np.array((n1,n2,n3),dtype=int)]),axis=0)\n",
        "        count += 1"
      ],
      "execution_count": 4,
      "outputs": []
    },
    {
      "cell_type": "code",
      "metadata": {
        "id": "FPZFv1uC_0EV"
      },
      "source": [
        "testImages = []\n",
        "testLabels = []\n",
        "\n",
        "with open(path_test + \"Test.csv\") as file:\n",
        "  read = csv.reader(file, delimiter=',')\n",
        "  testcount = 0\n",
        "  for row in read:\n",
        "    if testcount <= 1:\n",
        "      if testcount == 0:\n",
        "        testcount +=1\n",
        "      else:\n",
        "        image = Image.open(path_test + \"Test_Images/\" + row[0] + \".jpg\")\n",
        "        testImages = [np.array(image)]\n",
        "        n1 = 0\n",
        "        n2 = 0\n",
        "        n3 = 0\n",
        "        n1 += int(row[1])\n",
        "        n2 += int(row[2])\n",
        "        n3 += int(row[3])\n",
        "        testLabels = [np.array((n1,n2,n3),dtype=int)]\n",
        "        testcount += 1\n",
        "    else:\n",
        "        image = Image.open(path_test + \"Test_Images/\" + row[0] + \".jpg\")\n",
        "        testImages = np.concatenate((testImages,[np.array(image)]),axis=0)\n",
        "        n1 = 0\n",
        "        n2 = 0\n",
        "        n3 = 0\n",
        "        n1 += int(row[1])\n",
        "        n2 += int(row[2])\n",
        "        n3 += int(row[3])\n",
        "        testLabels = np.concatenate((testLabels,[np.array((n1,n2,n3),dtype=int)]),axis=0)\n",
        "        testcount += 1"
      ],
      "execution_count": 5,
      "outputs": []
    },
    {
      "cell_type": "code",
      "metadata": {
        "id": "HpwgOdwhB-Ui"
      },
      "source": [
        "#Now that the data has been parsed into readable format for the CNN\n",
        "#CNN code will follow"
      ],
      "execution_count": 6,
      "outputs": []
    },
    {
      "cell_type": "code",
      "metadata": {
        "id": "Aq_3_CUnCJNC"
      },
      "source": [
        "model = Sequential()\n",
        "model.add(Conv2D(64, 5, input_shape=(256, 256, 3)))\n",
        "model.add(MaxPooling2D(pool_size=2))\n",
        "model.add(Conv2D(32, 5, input_shape=(256, 256, 3)))\n",
        "model.add(MaxPooling2D(pool_size=2))\n",
        "model.add(Flatten())\n",
        "model.add(Dense(3, activation='softmax'))"
      ],
      "execution_count": 37,
      "outputs": []
    },
    {
      "cell_type": "code",
      "metadata": {
        "id": "vliu4fxFfNWh"
      },
      "source": [
        "model.compile(Adam(learning_rate=0.02), loss='categorical_crossentropy', metrics=['accuracy'])"
      ],
      "execution_count": 42,
      "outputs": []
    },
    {
      "cell_type": "code",
      "metadata": {
        "colab": {
          "base_uri": "https://localhost:8080/",
          "height": 163
        },
        "id": "YBzdso0BfO75",
        "outputId": "d16bc247-81f7-4a64-8b94-cab8cfb1d35e"
      },
      "source": [
        "model.fit(trainImages,trainLabels,batch_size=16,epochs=7,validation_data=(testImages, testLabels))"
      ],
      "execution_count": 1,
      "outputs": [
        {
          "output_type": "error",
          "ename": "NameError",
          "evalue": "ignored",
          "traceback": [
            "\u001b[0;31m---------------------------------------------------------------------------\u001b[0m",
            "\u001b[0;31mNameError\u001b[0m                                 Traceback (most recent call last)",
            "\u001b[0;32m<ipython-input-1-45e9f6d5d490>\u001b[0m in \u001b[0;36m<module>\u001b[0;34m()\u001b[0m\n\u001b[0;32m----> 1\u001b[0;31m \u001b[0mmodel\u001b[0m\u001b[0;34m.\u001b[0m\u001b[0mfit\u001b[0m\u001b[0;34m(\u001b[0m\u001b[0mtrainImages\u001b[0m\u001b[0;34m,\u001b[0m\u001b[0mtrainLabels\u001b[0m\u001b[0;34m,\u001b[0m\u001b[0mbatch_size\u001b[0m\u001b[0;34m=\u001b[0m\u001b[0;36m16\u001b[0m\u001b[0;34m,\u001b[0m\u001b[0mepochs\u001b[0m\u001b[0;34m=\u001b[0m\u001b[0;36m7\u001b[0m\u001b[0;34m,\u001b[0m\u001b[0mvalidation_data\u001b[0m\u001b[0;34m=\u001b[0m\u001b[0;34m(\u001b[0m\u001b[0mtestImages\u001b[0m\u001b[0;34m,\u001b[0m \u001b[0mtestLabels\u001b[0m\u001b[0;34m)\u001b[0m\u001b[0;34m)\u001b[0m\u001b[0;34m\u001b[0m\u001b[0;34m\u001b[0m\u001b[0m\n\u001b[0m",
            "\u001b[0;31mNameError\u001b[0m: name 'model' is not defined"
          ]
        }
      ]
    }
  ]
}
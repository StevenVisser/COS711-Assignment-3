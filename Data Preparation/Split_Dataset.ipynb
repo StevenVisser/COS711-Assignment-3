{
  "nbformat": 4,
  "nbformat_minor": 0,
  "metadata": {
    "colab": {
      "name": "Split Dataset.ipynb",
      "provenance": []
    },
    "kernelspec": {
      "name": "python3",
      "display_name": "Python 3"
    },
    "language_info": {
      "name": "python"
    }
  },
  "cells": [
    {
      "cell_type": "code",
      "metadata": {
        "id": "l_iRs_MPfmSV",
        "colab": {
          "base_uri": "https://localhost:8080/"
        },
        "outputId": "969fa879-3301-4282-b2ba-f2b0f464a1f6"
      },
      "source": [
        "from google.colab import drive\n",
        "drive.mount('/content/drive')\n",
        "\n",
        "import csv\n",
        "import numpy as np\n",
        "from PIL import Image\n",
        "import os\n",
        "import PIL\n",
        "import random"
      ],
      "execution_count": 25,
      "outputs": [
        {
          "output_type": "stream",
          "name": "stdout",
          "text": [
            "Drive already mounted at /content/drive; to attempt to forcibly remount, call drive.mount(\"/content/drive\", force_remount=True).\n"
          ]
        }
      ]
    },
    {
      "cell_type": "code",
      "metadata": {
        "id": "6OmiO6wVfrIH"
      },
      "source": [
        "path_test = \"/content/drive/My Drive/COS711/\"\n",
        "trainString = \"\"\n",
        "testString = \"\""
      ],
      "execution_count": 26,
      "outputs": []
    },
    {
      "cell_type": "code",
      "metadata": {
        "id": "wIpzyRCmfsfL"
      },
      "source": [
        "with open(path_test + \"TrainOneHotUpdate.csv\") as file:\n",
        "  read = csv.reader(file, delimiter=',')\n",
        "  count = 0\n",
        "  for row in read:\n",
        "    if count == 0:\n",
        "      trainString = str(row[0]) + \",\" + str(row[1]) + \",\" + str(row[2]) + \",\" + str(row[3])\n",
        "      testString = trainString\n",
        "      count += 1\n",
        "    else:\n",
        "      if random.uniform(0,1) < 0.7:\n",
        "        trainString += \"\\n\" + str(row[0]) + \",\" + str(row[1]) + \",\" + str(row[2]) + \",\" + str(row[3])\n",
        "      else:\n",
        "        testString += \"\\n\" + str(row[0]) + \",\" + str(row[1]) + \",\" + str(row[2]) + \",\" + str(row[3])\n",
        "        image = Image.open(path_test + \"PreparedImages/\" + row[0] + \".jpg\")\n",
        "        newImage = image.save(path_test + \"Test_Images/\" + row[0] + \".jpg\")\n",
        "        os.remove(path_test + \"PreparedImages/\" + row[0] + \".jpg\",dir_fd=None)\n",
        "      count += 1\n",
        "      print(count)"
      ],
      "execution_count": null,
      "outputs": []
    },
    {
      "cell_type": "code",
      "metadata": {
        "id": "yGJCwvlBhmSC"
      },
      "source": [
        "with open(path_test + \"Train.csv\",'w') as file:\n",
        "  file.write(trainString)"
      ],
      "execution_count": 35,
      "outputs": []
    },
    {
      "cell_type": "code",
      "metadata": {
        "id": "vWWugsX0h4yJ"
      },
      "source": [
        "with open(path_test + \"Test.csv\",'w') as file:\n",
        "  file.write(testString)"
      ],
      "execution_count": 37,
      "outputs": []
    }
  ]
}
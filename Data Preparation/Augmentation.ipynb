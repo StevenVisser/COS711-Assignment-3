{
  "nbformat": 4,
  "nbformat_minor": 0,
  "metadata": {
    "colab": {
      "name": "Data Preparation - Augmentation.ipynb",
      "provenance": []
    },
    "kernelspec": {
      "display_name": "Python 3",
      "name": "python3"
    },
    "language_info": {
      "name": "python"
    }
  },
  "cells": [
    {
      "cell_type": "code",
      "metadata": {
        "id": "-ICGtOhJHMrP",
        "colab": {
          "base_uri": "https://localhost:8080/"
        },
        "outputId": "e3e90aaa-9ca0-4c54-ab38-24996747e5a4"
      },
      "source": [
        "from google.colab import drive\n",
        "drive.mount('/content/drive')\n",
        "\n",
        "import csv\n",
        "import numpy as np\n",
        "from PIL import Image,ImageOps\n",
        "import os\n",
        "import PIL\n",
        "import glob\n",
        "import random"
      ],
      "execution_count": null,
      "outputs": [
        {
          "output_type": "stream",
          "name": "stdout",
          "text": [
            "Drive already mounted at /content/drive; to attempt to forcibly remount, call drive.mount(\"/content/drive\", force_remount=True).\n"
          ]
        }
      ]
    },
    {
      "cell_type": "code",
      "metadata": {
        "id": "iPFYReXWJozy"
      },
      "source": [
        "path_test = \"/content/drive/My Drive/COS711/\"\n",
        "updateString = \"\"\n",
        "augmentCount = 0"
      ],
      "execution_count": null,
      "outputs": []
    },
    {
      "cell_type": "code",
      "metadata": {
        "id": "HJK2obEgeP7M"
      },
      "source": [
        "with open(path_test + \"TrainOneHotUpdate.csv\") as file:\n",
        "  read = csv.reader(file, delimiter=',')\n",
        "  count = 0\n",
        "  for row in read:\n",
        "    gofree = 0\n",
        "    if count == 0:\n",
        "      count += 1\n",
        "    else:\n",
        "      image = Image.open(path_test + \"PreparedImages/\" + row[0] + \".jpg\")\n",
        "\n",
        "      newImage = ImageOps.mirror(image)\n",
        "      updateString += \"\\n\" + str(augmentCount) + \",\" + str(row[1]) + \",\" + str(row[2]) + \",\" + str(row[3])\n",
        "      augmentCount += 1\n",
        "      newImage = newImage.save(path_test + \"PreparedImages/\" + str(augmentCount) + \".jpg\");\n",
        "\n",
        "      newImage = ImageOps.flip(image)\n",
        "      updateString += \"\\n\" + str(augmentCount) + \",\" + str(row[1]) + \",\" + str(row[2]) + \",\" + str(row[3])\n",
        "      augmentCount += 1\n",
        "      newImage = newImage.save(path_test + \"PreparedImages/\" + str(augmentCount) + \".jpg\");\n",
        "\n",
        "      width = random.randint(100,220)\n",
        "      height = width\n",
        "      x = random.randint(0,256-width)\n",
        "      y = random.randint(0,256-width)\n",
        "      area = (x, y, x+width, y+height)\n",
        "\n",
        "      newImage = image.crop(area)\n",
        "      newImage.resize((256,256))\n",
        "      updateString += \"\\n\" + str(augmentCount) + \",\" + str(row[1]) + \",\" + str(row[2]) + \",\" + str(row[3])\n",
        "      augmentCount += 1\n",
        "      newImage = newImage.save(path_test + \"PreparedImages/\" + str(augmentCount) + \".jpg\");\n",
        "\n",
        "      newImage = image.crop(area)\n",
        "      newImage.resize((256,256))\n",
        "      newImage = ImageOps.mirror(image)\n",
        "      updateString += \"\\n\" + str(augmentCount) + \",\" + str(row[1]) + \",\" + str(row[2]) + \",\" + str(row[3])\n",
        "      augmentCount += 1\n",
        "      newImage = newImage.save(path_test + \"PreparedImages/\" + str(augmentCount) + \".jpg\");\n",
        "\n",
        "      count += 1\n",
        "      print(count)"
      ],
      "execution_count": null,
      "outputs": []
    },
    {
      "cell_type": "code",
      "metadata": {
        "id": "U_rGfQbdlsju"
      },
      "source": [
        "with open(path_test + \"TrainOneHotUpdate.csv\",'a') as file:\n",
        "  file.write(updateString)"
      ],
      "execution_count": null,
      "outputs": []
    }
  ]
}